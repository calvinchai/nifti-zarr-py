{
 "cells": [
  {
   "cell_type": "markdown",
   "metadata": {},
   "source": [
    "You must run `neuroglancer_fileserver.ipynb` in parallel."
   ]
  },
  {
   "cell_type": "code",
   "execution_count": 1,
   "metadata": {},
   "outputs": [],
   "source": [
    "import sys\n",
    "sys.path.insert(0, '..')\n",
    "\n",
    "import neuroglancer as ng\n",
    "import nibabel\n",
    "import niizarr\n",
    "import io\n",
    "import base64\n",
    "import numpy as np\n",
    "import fsspec\n",
    "import json\n",
    "import os\n"
   ]
  },
  {
   "cell_type": "code",
   "execution_count": 2,
   "metadata": {},
   "outputs": [],
   "source": [
    "HOME = os.environ.get('HOME')\n",
    "PATH = f'{HOME}/Dropbox/data/niizarr'\n",
    "PREFIX = 'http://127.0.0.1:8888/'\n",
    "FNAME = 'sub-control01_T1w.nii.zarr'\n"
   ]
  },
  {
   "cell_type": "code",
   "execution_count": 3,
   "metadata": {},
   "outputs": [],
   "source": [
    "with fsspec.open(os.path.join(PATH, FNAME, '.zattrs'), 'r') as f:\n",
    "    zattrs = json.load(f)\n",
    "\n",
    "# parse header with nibabel (we must fix magic string first)\n",
    "hdr = niizarr.bin2nii(base64.b64decode(zattrs[\"nifti\"][\"base64\"])).copy()\n",
    "hdr[\"magic\"] = \"n+1\"\n",
    "hdr = nibabel.Nifti1Header.from_fileobj(io.BytesIO(hdr))\n",
    "\n",
    "# compute matrices\n",
    "permute = np.eye(4)\n",
    "permute[:-1, :-1] = permute[:-1, [2, 1, 0]]\n",
    "vox2ras = hdr.get_best_affine()\n",
    "vox2phys = np.eye(4)\n",
    "scale = zattrs[\"multiscales\"][0][\"datasets\"][0][\"coordinateTransformations\"][0][\"scale\"]\n",
    "shift = zattrs[\"multiscales\"][0][\"datasets\"][0][\"coordinateTransformations\"][-1][\"translation\"]\n",
    "vox2phys[[0, 1, 2], [0, 1, 2]] = list(reversed(scale[2:]))\n",
    "vox2phys[:-1, -1] = list(reversed(shift[2:]))\n",
    "phys2ras= vox2ras @ permute @ np.linalg.inv(vox2phys)\n",
    "\n",
    "ras2lpi = np.eye(4)\n",
    "ras2lpi[:-1, :-1] *= -1\n",
    "phys2lpi = ras2lpi @ phys2ras\n",
    "\n",
    "# define neuroglancer transform\n",
    "ras_space = ng.CoordinateSpace(\n",
    "    names=[\"x\", \"y\", \"z\"],\n",
    "    units=\"mm\",\n",
    "    scales=[1]*3,\n",
    ")\n",
    "lpi_space  = ng.CoordinateSpace(\n",
    "    names=[\"left\", \"posterior\", \"inferior\"],\n",
    "    units=\"mm\",\n",
    "    scales=[1]*3,\n",
    ")\n",
    "phys_space = ng.CoordinateSpace(\n",
    "    names=[\"z\", \"y\", \"x\"],\n",
    "    units=\"mm\",\n",
    "    scales=scale[2:],\n",
    ")\n",
    "transform = ng.CoordinateSpaceTransform(\n",
    "    matrix=phys2lpi[:3, :4],\n",
    "    input_dimensions=phys_space,\n",
    "    output_dimensions=lpi_space,\n",
    ")\n"
   ]
  },
  {
   "cell_type": "code",
   "execution_count": 4,
   "metadata": {},
   "outputs": [
    {
     "name": "stdout",
     "output_type": "stream",
     "text": [
      "http://127.0.0.1:9090/v/1/\n"
     ]
    }
   ],
   "source": [
    "# launch neuroglancer instance\n",
    "ng.server.global_server_args['bind_port'] = '9090'\n",
    "viewer = ng.Viewer(token='1')\n",
    "print(viewer.get_viewer_url())\n"
   ]
  },
  {
   "cell_type": "code",
   "execution_count": 5,
   "metadata": {},
   "outputs": [],
   "source": [
    "def make_freeview_layout():\n",
    "    layout_col = {\"type\": \"column\", \"children\": []}\n",
    "    for row in range(2):\n",
    "        layout = {\"type\": \"row\", \"children\": []}\n",
    "        for col in range(2):\n",
    "            if row == col == 0:\n",
    "                # axial\n",
    "                layout[\"children\"].append({\"layout\": \"xy\", \"type\": \"viewer\", \"layers\": [\"mri\"]})\n",
    "            if row == 0 and col == 1:\n",
    "                # sagittal\n",
    "                layout[\"children\"].append({\"layout\": \"yz\", \"type\": \"viewer\", \"layers\": [\"mri\"]})\n",
    "            if row == col == 1:\n",
    "                # coronal\n",
    "                layout[\"children\"].append({\"layout\": \"xz\", \"type\": \"viewer\", \"layers\": [\"mri\"]})\n",
    "            if row == col == 1:\n",
    "                # 3d view\n",
    "                layout[\"children\"].append({\"layout\": \"3d\", \"type\": \"viewer\", \"layers\": [\"mri\"]})\n",
    "        layout_col[\"children\"].append(layout)\n",
    "    return layout_col\n",
    "\n",
    "with viewer.txn() as state:\n",
    "    state.layout = make_freeview_layout()\n"
   ]
  },
  {
   "cell_type": "code",
   "execution_count": 6,
   "metadata": {},
   "outputs": [],
   "source": [
    "# load volume and transform\n",
    "with viewer.txn() as state:\n",
    "    state.layers.append(\n",
    "        name=\"mri\",\n",
    "        layer=ng.ImageLayer(\n",
    "                source=ng.LayerDataSource(\n",
    "                url=\"zarr://\" + os.path.join(PREFIX, FNAME),\n",
    "                transform=transform,\n",
    "            ),\n",
    "            shader=\"\"\"\n",
    "            void main() {\n",
    "                emitGrayscale(getDataValue()/1000.);\n",
    "            }\n",
    "            \"\"\"\n",
    "        )\n",
    "    )"
   ]
  },
  {
   "cell_type": "code",
   "execution_count": 7,
   "metadata": {},
   "outputs": [],
   "source": [
    "# for some reason if we don't wait, displayDimensions gets reset after\n",
    "# I set them\n",
    "import time\n",
    "time.sleep(2)\n",
    "\n",
    "with viewer.txn() as state:\n",
    "    state.displayDimensions = [\"left\", \"posterior\", \"inferior\"]"
   ]
  },
  {
   "cell_type": "code",
   "execution_count": 8,
   "metadata": {},
   "outputs": [],
   "source": [
    "# same, I need to force a state update after a while to avoid some of the\n",
    "# FOV having large ugly voxels...\n",
    "# Hopefully it's only a pyotebook thing\n",
    "import time\n",
    "time.sleep(2)\n",
    "\n",
    "\n",
    "with viewer.txn() as state:\n",
    "    viewer.shared_state.set_state(state)"
   ]
  }
 ],
 "metadata": {
  "kernelspec": {
   "display_name": "ngtracts",
   "language": "python",
   "name": "python3"
  },
  "language_info": {
   "codemirror_mode": {
    "name": "ipython",
    "version": 3
   },
   "file_extension": ".py",
   "mimetype": "text/x-python",
   "name": "python",
   "nbconvert_exporter": "python",
   "pygments_lexer": "ipython3",
   "version": "3.8.18"
  }
 },
 "nbformat": 4,
 "nbformat_minor": 2
}
